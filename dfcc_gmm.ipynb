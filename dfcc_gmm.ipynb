{
 "cells": [
  {
   "cell_type": "code",
   "execution_count": 1,
   "id": "a9d01036-c747-42c0-a979-ee720611d17c",
   "metadata": {},
   "outputs": [
    {
     "name": "stdout",
     "output_type": "stream",
     "text": [
      "Requirement already satisfied: librosa in /opt/anaconda3/lib/python3.11/site-packages (0.11.0)\n",
      "Requirement already satisfied: scikit-learn in /opt/anaconda3/lib/python3.11/site-packages (1.2.2)\n",
      "Requirement already satisfied: audioread>=2.1.9 in /opt/anaconda3/lib/python3.11/site-packages (from librosa) (3.0.1)\n",
      "Requirement already satisfied: numba>=0.51.0 in /opt/anaconda3/lib/python3.11/site-packages (from librosa) (0.59.0)\n",
      "Requirement already satisfied: numpy>=1.22.3 in /opt/anaconda3/lib/python3.11/site-packages (from librosa) (1.26.4)\n",
      "Requirement already satisfied: scipy>=1.6.0 in /opt/anaconda3/lib/python3.11/site-packages (from librosa) (1.11.4)\n",
      "Requirement already satisfied: joblib>=1.0 in /opt/anaconda3/lib/python3.11/site-packages (from librosa) (1.2.0)\n",
      "Requirement already satisfied: decorator>=4.3.0 in /opt/anaconda3/lib/python3.11/site-packages (from librosa) (5.1.1)\n",
      "Requirement already satisfied: soundfile>=0.12.1 in /opt/anaconda3/lib/python3.11/site-packages (from librosa) (0.13.1)\n",
      "Requirement already satisfied: pooch>=1.1 in /opt/anaconda3/lib/python3.11/site-packages (from librosa) (1.8.2)\n",
      "Requirement already satisfied: soxr>=0.3.2 in /opt/anaconda3/lib/python3.11/site-packages (from librosa) (0.5.0.post1)\n",
      "Requirement already satisfied: typing_extensions>=4.1.1 in /opt/anaconda3/lib/python3.11/site-packages (from librosa) (4.9.0)\n",
      "Requirement already satisfied: lazy_loader>=0.1 in /opt/anaconda3/lib/python3.11/site-packages (from librosa) (0.3)\n",
      "Requirement already satisfied: msgpack>=1.0 in /opt/anaconda3/lib/python3.11/site-packages (from librosa) (1.0.3)\n",
      "Requirement already satisfied: threadpoolctl>=2.0.0 in /opt/anaconda3/lib/python3.11/site-packages (from scikit-learn) (2.2.0)\n",
      "Requirement already satisfied: llvmlite<0.43,>=0.42.0dev0 in /opt/anaconda3/lib/python3.11/site-packages (from numba>=0.51.0->librosa) (0.42.0)\n",
      "Requirement already satisfied: platformdirs>=2.5.0 in /opt/anaconda3/lib/python3.11/site-packages (from pooch>=1.1->librosa) (3.10.0)\n",
      "Requirement already satisfied: packaging>=20.0 in /opt/anaconda3/lib/python3.11/site-packages (from pooch>=1.1->librosa) (23.1)\n",
      "Requirement already satisfied: requests>=2.19.0 in /opt/anaconda3/lib/python3.11/site-packages (from pooch>=1.1->librosa) (2.31.0)\n",
      "Requirement already satisfied: cffi>=1.0 in /opt/anaconda3/lib/python3.11/site-packages (from soundfile>=0.12.1->librosa) (1.16.0)\n",
      "Requirement already satisfied: pycparser in /opt/anaconda3/lib/python3.11/site-packages (from cffi>=1.0->soundfile>=0.12.1->librosa) (2.21)\n",
      "Requirement already satisfied: charset-normalizer<4,>=2 in /opt/anaconda3/lib/python3.11/site-packages (from requests>=2.19.0->pooch>=1.1->librosa) (2.0.4)\n",
      "Requirement already satisfied: idna<4,>=2.5 in /opt/anaconda3/lib/python3.11/site-packages (from requests>=2.19.0->pooch>=1.1->librosa) (3.4)\n",
      "Requirement already satisfied: urllib3<3,>=1.21.1 in /opt/anaconda3/lib/python3.11/site-packages (from requests>=2.19.0->pooch>=1.1->librosa) (2.0.7)\n",
      "Requirement already satisfied: certifi>=2017.4.17 in /opt/anaconda3/lib/python3.11/site-packages (from requests>=2.19.0->pooch>=1.1->librosa) (2024.2.2)\n",
      "Note: you may need to restart the kernel to use updated packages.\n"
     ]
    }
   ],
   "source": [
    "pip install librosa scikit-learn"
   ]
  },
  {
   "cell_type": "code",
   "execution_count": 2,
   "id": "58de7581-54b0-484d-afed-b90e4c63aba5",
   "metadata": {},
   "outputs": [],
   "source": [
    "import os\n",
    "import numpy as np\n",
    "import librosa\n",
    "from sklearn.mixture import GaussianMixture\n",
    "from sklearn.preprocessing import StandardScaler\n",
    "import joblib"
   ]
  },
  {
   "cell_type": "code",
   "execution_count": 29,
   "id": "7a4e4bd7-ec8c-4820-aabf-5c6f4bb19db2",
   "metadata": {},
   "outputs": [
    {
     "data": {
      "text/plain": [
       "('./2501ml_data/train',\n",
       " './2501ml_data/test',\n",
       " './2501ml_data/label/train_label.txt',\n",
       " './2501ml_data/label/test_label.txt')"
      ]
     },
     "execution_count": 29,
     "metadata": {},
     "output_type": "execute_result"
    }
   ],
   "source": [
    "# 사용자 폴더 구조 기반 경로 정의\n",
    "base_dir = \"./2501ml_data\"\n",
    "train_dir = os.path.join(base_dir, \"train\")\n",
    "test_dir = os.path.join(base_dir, \"test\")\n",
    "label_dir = os.path.join(base_dir, \"label\")\n",
    "train_label_path = os.path.join(label_dir, \"train_label.txt\")\n",
    "test_label_path = os.path.join(label_dir, \"test_label.txt\")\n",
    "\n",
    "# 폴더, 라벨 경로 확인\n",
    "(train_dir, test_dir, train_label_path, test_label_path)"
   ]
  },
  {
   "cell_type": "code",
   "execution_count": 31,
   "id": "cc91c4e5-b664-4ceb-9763-1c1a663f2069",
   "metadata": {},
   "outputs": [],
   "source": [
    "## 라벨 불러오는 함수 부분"
   ]
  },
  {
   "cell_type": "code",
   "execution_count": 38,
   "id": "9dfc0726-ec33-4e2a-aee4-2a9b0c21c369",
   "metadata": {},
   "outputs": [],
   "source": [
    "def load_labels(label_file_path):\n",
    "    labels = {}\n",
    "    with open(label_file_path, 'r') as f:\n",
    "        for line in f:\n",
    "            parts = line.strip().split()\n",
    "            if len(parts) >= 4:\n",
    "                fname = parts[1]              # ex: KDF_T_0001.wav\n",
    "                label = parts[4].lower()      # Real/Fake → 소문자로\n",
    "                labels[fname] = label\n",
    "    return labels\n"
   ]
  },
  {
   "cell_type": "code",
   "execution_count": 39,
   "id": "261079f3-07d5-48f3-8e44-fd8327d72374",
   "metadata": {},
   "outputs": [
    {
     "name": "stdout",
     "output_type": "stream",
     "text": [
      "KDF_T_0001.wav real\n",
      "KDF_T_0002.wav real\n",
      "KDF_T_0003.wav real\n",
      "KDF_T_0004.wav real\n",
      "KDF_T_0005.wav real\n",
      "KDF_T_0006.wav real\n",
      "KDF_T_0007.wav real\n",
      "KDF_T_0008.wav real\n",
      "KDF_T_0009.wav real\n",
      "KDF_T_0010.wav real\n",
      "KDF_T_0011.wav real\n",
      "KDF_T_0012.wav real\n"
     ]
    }
   ],
   "source": [
    "train_labels = load_labels(train_label_path)\n",
    "\n",
    "for i, (k, v) in enumerate(train_labels.items()):\n",
    "    print(k, v)\n",
    "    if i > 10:\n",
    "        break\n"
   ]
  },
  {
   "cell_type": "code",
   "execution_count": 32,
   "id": "b7d4fba3-11e8-4e49-9ae7-fdd5b69a33db",
   "metadata": {},
   "outputs": [],
   "source": [
    "## MFCC 39차원 벡터 추출 함수"
   ]
  },
  {
   "cell_type": "code",
   "execution_count": 40,
   "id": "947e39a4-3768-415f-859b-28ebe8b2e87f",
   "metadata": {},
   "outputs": [],
   "source": [
    "def extract_mfcc_39(filepath):\n",
    "    try:\n",
    "        y, sr = librosa.load(filepath, sr=16000)  # 16kHz로 로딩\n",
    "        mfcc = librosa.feature.mfcc(y=y, sr=sr, n_mfcc=13)  # (13, time)\n",
    "        delta = librosa.feature.delta(mfcc)                # Δ\n",
    "        delta2 = librosa.feature.delta(mfcc, order=2)      # ΔΔ\n",
    "        mfcc_39 = np.vstack([mfcc, delta, delta2])         # (39, time)\n",
    "        return np.mean(mfcc_39, axis=1)                    # 평균 내서 (39,) 벡터\n",
    "    except Exception as e:\n",
    "        print(f\"[오류] {filepath}: {e}\")\n",
    "        return None\n"
   ]
  },
  {
   "cell_type": "code",
   "execution_count": null,
   "id": "bf1245b0-73d8-4d81-becb-678db0a4c638",
   "metadata": {},
   "outputs": [],
   "source": [
    "## 사용 예시"
   ]
  },
  {
   "cell_type": "code",
   "execution_count": 41,
   "id": "bbcd015e-e446-46a9-b5a7-029d7017b43b",
   "metadata": {},
   "outputs": [
    {
     "name": "stdout",
     "output_type": "stream",
     "text": [
      "(39,)\n",
      "[-362.77438   122.49903    26.545534   25.488754    6.769586]\n"
     ]
    }
   ],
   "source": [
    "vec = extract_mfcc_39(os.path.join(train_dir, \"KDF_T_0001.wav\"))\n",
    "print(vec.shape)  # → (39,)\n",
    "print(vec[:5])    # 일부 벡터 값 출력\n"
   ]
  },
  {
   "cell_type": "code",
   "execution_count": 42,
   "id": "a30d610b-c74f-4f60-8d02-9681b06d9149",
   "metadata": {},
   "outputs": [],
   "source": [
    "real_vecs = []\n",
    "fake_vecs = []\n",
    "\n",
    "for fname, label in train_labels.items():\n",
    "    path = os.path.join(train_dir, fname)\n",
    "    vec = extract_mfcc_39(path)\n",
    "    if vec is None:\n",
    "        continue\n",
    "    if label == \"real\":\n",
    "        real_vecs.append(vec)\n",
    "    elif label == \"fake\":\n",
    "        fake_vecs.append(vec)\n"
   ]
  },
  {
   "cell_type": "code",
   "execution_count": 43,
   "id": "338518cc-15ea-4f56-ada8-e8a9f61e2731",
   "metadata": {},
   "outputs": [
    {
     "name": "stdout",
     "output_type": "stream",
     "text": [
      "✅ real 벡터 수: 2000\n",
      "✅ fake 벡터 수: 2000\n"
     ]
    }
   ],
   "source": [
    "print(f\"✅ real 벡터 수: {len(real_vecs)}\")\n",
    "print(f\"✅ fake 벡터 수: {len(fake_vecs)}\")\n"
   ]
  },
  {
   "cell_type": "code",
   "execution_count": 49,
   "id": "556b5bbd-133e-4e8c-8f69-d3155a1aa54d",
   "metadata": {},
   "outputs": [
    {
     "data": {
      "text/html": [
       "<style>#sk-container-id-2 {color: black;background-color: white;}#sk-container-id-2 pre{padding: 0;}#sk-container-id-2 div.sk-toggleable {background-color: white;}#sk-container-id-2 label.sk-toggleable__label {cursor: pointer;display: block;width: 100%;margin-bottom: 0;padding: 0.3em;box-sizing: border-box;text-align: center;}#sk-container-id-2 label.sk-toggleable__label-arrow:before {content: \"▸\";float: left;margin-right: 0.25em;color: #696969;}#sk-container-id-2 label.sk-toggleable__label-arrow:hover:before {color: black;}#sk-container-id-2 div.sk-estimator:hover label.sk-toggleable__label-arrow:before {color: black;}#sk-container-id-2 div.sk-toggleable__content {max-height: 0;max-width: 0;overflow: hidden;text-align: left;background-color: #f0f8ff;}#sk-container-id-2 div.sk-toggleable__content pre {margin: 0.2em;color: black;border-radius: 0.25em;background-color: #f0f8ff;}#sk-container-id-2 input.sk-toggleable__control:checked~div.sk-toggleable__content {max-height: 200px;max-width: 100%;overflow: auto;}#sk-container-id-2 input.sk-toggleable__control:checked~label.sk-toggleable__label-arrow:before {content: \"▾\";}#sk-container-id-2 div.sk-estimator input.sk-toggleable__control:checked~label.sk-toggleable__label {background-color: #d4ebff;}#sk-container-id-2 div.sk-label input.sk-toggleable__control:checked~label.sk-toggleable__label {background-color: #d4ebff;}#sk-container-id-2 input.sk-hidden--visually {border: 0;clip: rect(1px 1px 1px 1px);clip: rect(1px, 1px, 1px, 1px);height: 1px;margin: -1px;overflow: hidden;padding: 0;position: absolute;width: 1px;}#sk-container-id-2 div.sk-estimator {font-family: monospace;background-color: #f0f8ff;border: 1px dotted black;border-radius: 0.25em;box-sizing: border-box;margin-bottom: 0.5em;}#sk-container-id-2 div.sk-estimator:hover {background-color: #d4ebff;}#sk-container-id-2 div.sk-parallel-item::after {content: \"\";width: 100%;border-bottom: 1px solid gray;flex-grow: 1;}#sk-container-id-2 div.sk-label:hover label.sk-toggleable__label {background-color: #d4ebff;}#sk-container-id-2 div.sk-serial::before {content: \"\";position: absolute;border-left: 1px solid gray;box-sizing: border-box;top: 0;bottom: 0;left: 50%;z-index: 0;}#sk-container-id-2 div.sk-serial {display: flex;flex-direction: column;align-items: center;background-color: white;padding-right: 0.2em;padding-left: 0.2em;position: relative;}#sk-container-id-2 div.sk-item {position: relative;z-index: 1;}#sk-container-id-2 div.sk-parallel {display: flex;align-items: stretch;justify-content: center;background-color: white;position: relative;}#sk-container-id-2 div.sk-item::before, #sk-container-id-2 div.sk-parallel-item::before {content: \"\";position: absolute;border-left: 1px solid gray;box-sizing: border-box;top: 0;bottom: 0;left: 50%;z-index: -1;}#sk-container-id-2 div.sk-parallel-item {display: flex;flex-direction: column;z-index: 1;position: relative;background-color: white;}#sk-container-id-2 div.sk-parallel-item:first-child::after {align-self: flex-end;width: 50%;}#sk-container-id-2 div.sk-parallel-item:last-child::after {align-self: flex-start;width: 50%;}#sk-container-id-2 div.sk-parallel-item:only-child::after {width: 0;}#sk-container-id-2 div.sk-dashed-wrapped {border: 1px dashed gray;margin: 0 0.4em 0.5em 0.4em;box-sizing: border-box;padding-bottom: 0.4em;background-color: white;}#sk-container-id-2 div.sk-label label {font-family: monospace;font-weight: bold;display: inline-block;line-height: 1.2em;}#sk-container-id-2 div.sk-label-container {text-align: center;}#sk-container-id-2 div.sk-container {/* jupyter's `normalize.less` sets `[hidden] { display: none; }` but bootstrap.min.css set `[hidden] { display: none !important; }` so we also need the `!important` here to be able to override the default hidden behavior on the sphinx rendered scikit-learn.org. See: https://github.com/scikit-learn/scikit-learn/issues/21755 */display: inline-block !important;position: relative;}#sk-container-id-2 div.sk-text-repr-fallback {display: none;}</style><div id=\"sk-container-id-2\" class=\"sk-top-container\"><div class=\"sk-text-repr-fallback\"><pre>GaussianMixture(covariance_type=&#x27;diag&#x27;, n_components=8, random_state=42)</pre><b>In a Jupyter environment, please rerun this cell to show the HTML representation or trust the notebook. <br />On GitHub, the HTML representation is unable to render, please try loading this page with nbviewer.org.</b></div><div class=\"sk-container\" hidden><div class=\"sk-item\"><div class=\"sk-estimator sk-toggleable\"><input class=\"sk-toggleable__control sk-hidden--visually\" id=\"sk-estimator-id-2\" type=\"checkbox\" checked><label for=\"sk-estimator-id-2\" class=\"sk-toggleable__label sk-toggleable__label-arrow\">GaussianMixture</label><div class=\"sk-toggleable__content\"><pre>GaussianMixture(covariance_type=&#x27;diag&#x27;, n_components=8, random_state=42)</pre></div></div></div></div></div>"
      ],
      "text/plain": [
       "GaussianMixture(covariance_type='diag', n_components=8, random_state=42)"
      ]
     },
     "execution_count": 49,
     "metadata": {},
     "output_type": "execute_result"
    }
   ],
   "source": [
    "gmm_real = GaussianMixture(n_components=8, covariance_type='diag', random_state=42)\n",
    "gmm_real.fit(real_vecs)\n",
    "\n",
    "gmm_fake = GaussianMixture(n_components=8, covariance_type='diag', random_state=42)\n",
    "gmm_fake.fit(fake_vecs)\n"
   ]
  },
  {
   "cell_type": "code",
   "execution_count": 52,
   "id": "8bfc09b6-fc93-4e9a-8590-c2c16e0a9412",
   "metadata": {},
   "outputs": [
    {
     "name": "stdout",
     "output_type": "stream",
     "text": [
      "KDF_E_1004.wav → pred: real, true: real, log_real: -9.76, log_fake: -37.48\n",
      "KDF_E_0510.wav → pred: real, true: real, log_real: -30.14, log_fake: -36.57\n",
      "KDF_E_1538.wav → pred: real, true: real, log_real: -16.05, log_fake: -50.85\n",
      "KDF_E_0370.wav → pred: real, true: real, log_real: -4.82, log_fake: -39.12\n",
      "KDF_E_1048.wav → pred: real, true: real, log_real: -22.33, log_fake: -45.70\n",
      "KDF_E_0607.wav → pred: real, true: real, log_real: -26.58, log_fake: -53.47\n",
      "KDF_E_1163.wav → pred: real, true: real, log_real: -8.44, log_fake: -29.02\n",
      "KDF_E_1147.wav → pred: real, true: real, log_real: 3.46, log_fake: -24.94\n",
      "KDF_E_1828.wav → pred: real, true: real, log_real: -19.26, log_fake: -29.74\n",
      "KDF_E_0421.wav → pred: real, true: real, log_real: -21.30, log_fake: -39.65\n"
     ]
    }
   ],
   "source": [
    "for i, (fname, true_label) in enumerate(test_labels.items()):\n",
    "    path = os.path.join(test_dir, fname)\n",
    "    vec = extract_mfcc_39(path)\n",
    "    if vec is None:\n",
    "        continue\n",
    "    log_real = gmm_real.score([vec])\n",
    "    log_fake = gmm_fake.score([vec])\n",
    "    pred = \"real\" if log_real > log_fake else \"fake\"\n",
    "\n",
    "    print(f\"{fname} → pred: {pred}, true: {true_label.lower()}, log_real: {log_real:.2f}, log_fake: {log_fake:.2f}\")\n",
    "    \n",
    "    if i >= 9:\n",
    "        break\n"
   ]
  },
  {
   "cell_type": "code",
   "execution_count": 53,
   "id": "cfdf6e74-ee49-4d15-aa95-2e936e18e97d",
   "metadata": {},
   "outputs": [],
   "source": [
    "correct = 0\n",
    "total = 0\n",
    "results = []\n",
    "\n",
    "for fname, true_label in test_labels.items():\n",
    "    path = os.path.join(test_dir, fname)\n",
    "    vec = extract_mfcc_39(path)\n",
    "    if vec is None:\n",
    "        continue\n",
    "    log_real = gmm_real.score([vec])\n",
    "    log_fake = gmm_fake.score([vec])\n",
    "    pred = \"real\" if log_real > log_fake else \"fake\"\n",
    "    \n",
    "    # 정답 비교\n",
    "    if pred == true_label.lower():\n",
    "        correct += 1\n",
    "    total += 1\n",
    "    \n",
    "    results.append(f\"{fname} {pred}\\n\")\n"
   ]
  },
  {
   "cell_type": "code",
   "execution_count": 55,
   "id": "5cbf2f73-44ca-49e9-9bf1-8b7c651ea868",
   "metadata": {},
   "outputs": [
    {
     "name": "stdout",
     "output_type": "stream",
     "text": [
      "🎯 정확도: 76.30%  (1526/2000)\n"
     ]
    }
   ],
   "source": [
    "accuracy = correct / total\n",
    "accuracy_percent = accuracy * 100\n",
    "print(f\"🎯 정확도: {accuracy_percent:.2f}%  ({correct}/{total})\")"
   ]
  },
  {
   "cell_type": "code",
   "execution_count": null,
   "id": "774b1f8f-9a78-47c5-874d-f0ca3c47ccbb",
   "metadata": {},
   "outputs": [],
   "source": []
  }
 ],
 "metadata": {
  "kernelspec": {
   "display_name": "Python 3 (ipykernel)",
   "language": "python",
   "name": "python3"
  },
  "language_info": {
   "codemirror_mode": {
    "name": "ipython",
    "version": 3
   },
   "file_extension": ".py",
   "mimetype": "text/x-python",
   "name": "python",
   "nbconvert_exporter": "python",
   "pygments_lexer": "ipython3",
   "version": "3.11.7"
  }
 },
 "nbformat": 4,
 "nbformat_minor": 5
}
